{
  "nbformat": 4,
  "nbformat_minor": 0,
  "metadata": {
    "colab": {
      "name": "Get_pred_val_csv.ipynb",
      "provenance": []
    },
    "kernelspec": {
      "name": "python3",
      "display_name": "Python 3"
    },
    "accelerator": "GPU"
  },
  "cells": [
    {
      "cell_type": "code",
      "metadata": {
        "id": "V8I3F287Eh_k",
        "colab_type": "code",
        "outputId": "c0bb51df-6d10-40f9-e88a-57ca1baa33db",
        "colab": {
          "base_uri": "https://localhost:8080/",
          "height": 80
        }
      },
      "source": [
        "%matplotlib inline\n",
        "import os\n",
        "import matplotlib.pyplot as plt\n",
        "import numpy as np\n",
        "from PIL import Image\n",
        "from glob import glob\n",
        "import cv2\n",
        "import json\n",
        "import sys\n",
        "import random\n",
        "import tensorflow as tf\n",
        "from tensorflow import keras\n",
        "import keras.backend as K\n",
        "sys.path.append('/content/drive/My Drive/Colab Notebooks')"
      ],
      "execution_count": 0,
      "outputs": [
        {
          "output_type": "display_data",
          "data": {
            "text/html": [
              "<p style=\"color: red;\">\n",
              "The default version of TensorFlow in Colab will soon switch to TensorFlow 2.x.<br>\n",
              "We recommend you <a href=\"https://www.tensorflow.org/guide/migrate\" target=\"_blank\">upgrade</a> now \n",
              "or ensure your notebook will continue to use TensorFlow 1.x via the <code>%tensorflow_version 1.x</code> magic:\n",
              "<a href=\"https://colab.research.google.com/notebooks/tensorflow_version.ipynb\" target=\"_blank\">more info</a>.</p>\n"
            ],
            "text/plain": [
              "<IPython.core.display.HTML object>"
            ]
          },
          "metadata": {
            "tags": []
          }
        },
        {
          "output_type": "stream",
          "text": [
            "Using TensorFlow backend.\n"
          ],
          "name": "stderr"
        }
      ]
    },
    {
      "cell_type": "code",
      "metadata": {
        "id": "alHDbII1-lgY",
        "colab_type": "code",
        "colab": {}
      },
      "source": [
        "def dice_coef(y_true, y_pred, smooth=1):\n",
        "    intersection = K.sum(y_true * y_pred, axis=[1,2,3])\n",
        "    union = K.sum(y_true, axis=[1,2,3]) + K.sum(y_pred, axis=[1,2,3])\n",
        "    return K.mean( (2. * intersection + smooth) / (union + smooth), axis=0)"
      ],
      "execution_count": 0,
      "outputs": []
    },
    {
      "cell_type": "code",
      "metadata": {
        "id": "62ceGwUKDAek",
        "colab_type": "code",
        "colab": {}
      },
      "source": [
        "def encode_rle(mask):\n",
        "    \"\"\"Returns encoded mask (run length) as a string.\n",
        "    Parameters\n",
        "    ----------\n",
        "    mask : np.ndarray, 2d\n",
        "        Mask that consists of 2 unique values: 0 - denotes background, 1 - denotes object.\n",
        "    Returns\n",
        "    -------\n",
        "    str\n",
        "        Encoded mask.\n",
        "    Notes\n",
        "    -----\n",
        "    Mask should contains only 2 unique values, one of them must be 0, another value, that denotes\n",
        "    object, could be different from 1 (for example 255).\n",
        "    \"\"\"\n",
        "    pixels = mask.flatten()\n",
        "    pixels = np.concatenate([[0], pixels, [0]])\n",
        "    runs = np.where(pixels[1:] != pixels[:-1])[0] + 1\n",
        "    runs[1::2] -= runs[::2]\n",
        "\n",
        "    return ' '.join(str(x) for x in runs)\n",
        "\n",
        "\n",
        "def decode_rle(rle_mask, shape=(512, 512)):\n",
        "    \"\"\"Decodes mask from rle string.\n",
        "    Parameters\n",
        "    ----------\n",
        "    rle_mask : str\n",
        "        Run length as string formatted.\n",
        "    shape : tuple of 2 int, optional (default=(320, 240))\n",
        "        Shape of the decoded image.\n",
        "    Returns\n",
        "    -------\n",
        "    np.ndarray, 2d\n",
        "        Mask that contains only 2 unique values: 0 - denotes background, 255 - denotes object.\n",
        "    \n",
        "    \"\"\"\n",
        "    s = rle_mask.split()\n",
        "    starts, lengths = [np.asarray(x, dtype=int) for x in (s[0:][::2], s[1:][::2])]\n",
        "    starts -= 1\n",
        "    ends = starts + lengths\n",
        "    img = np.zeros(shape[0]*shape[1], dtype=np.uint8)\n",
        "    for low, high in zip(starts, ends):\n",
        "        img[low:high] = 255\n",
        "\n",
        "    return img.reshape(shape)"
      ],
      "execution_count": 0,
      "outputs": []
    },
    {
      "cell_type": "markdown",
      "metadata": {
        "id": "wwjzZw1ZvdQY",
        "colab_type": "text"
      },
      "source": [
        "Модель обучена в ноутбуку Main_Train при оптимальных параметрах(filter - 64, 1024, epoch = 10, batch_size = 10) Модель доступна по ссылке https://drive.google.com/file/d/1OZFwbD8cvRR_YyKY1NOVfMchJf0mW3ZI/view?usp=sharing"
      ]
    },
    {
      "cell_type": "code",
      "metadata": {
        "id": "8lSpi0L1-M9O",
        "colab_type": "code",
        "colab": {}
      },
      "source": [
        "saved_model = keras.models.load_model(\"/content/drive/My Drive/Colab Notebooks/cig_butts/M4_plus4epochs_dice_bincrosentr_f64-1024_DICE-078.h5\", custom_objects = {\"dice_coef\" : dice_coef})"
      ],
      "execution_count": 0,
      "outputs": []
    },
    {
      "cell_type": "markdown",
      "metadata": {
        "id": "AlNqB23hwbNO",
        "colab_type": "text"
      },
      "source": [
        "Валидационые сеты получена аналогично тренировачным в ноутбуке Main_Train. С изменением - валидационные картинки в последнем измерении были уменьшены на 1, посколько в расширении png, а натренирована сеть на jpg"
      ]
    },
    {
      "cell_type": "code",
      "metadata": {
        "id": "CWoGSQ7colVE",
        "colab_type": "code",
        "colab": {}
      },
      "source": [
        "X_val = np.load(\"/content/drive/My Drive/Colab Notebooks/cig_butts/X_val_uint8.npy\")/255.0"
      ],
      "execution_count": 0,
      "outputs": []
    },
    {
      "cell_type": "code",
      "metadata": {
        "id": "rehjscC4yyzZ",
        "colab_type": "code",
        "colab": {}
      },
      "source": [
        "Y_val = np.load(\"/content/drive/My Drive/Colab Notebooks/cig_butts/Y_val_uint8.npy\")/255.0"
      ],
      "execution_count": 0,
      "outputs": []
    },
    {
      "cell_type": "code",
      "metadata": {
        "id": "oMY8yW1E_YTV",
        "colab_type": "code",
        "colab": {}
      },
      "source": [
        "Y_val_pred = saved_model.predict(X_val, batch_size=10, verbose = 0)"
      ],
      "execution_count": 0,
      "outputs": []
    },
    {
      "cell_type": "markdown",
      "metadata": {
        "id": "PtQ-EH63w8rL",
        "colab_type": "text"
      },
      "source": [
        "Функция restrict - переводит в ноль все числа в массиве меньше определенного трешхолда, а если больше - то в 255"
      ]
    },
    {
      "cell_type": "code",
      "metadata": {
        "id": "g59-KXAhLdV_",
        "colab_type": "code",
        "colab": {}
      },
      "source": [
        "def restrict(Y_val, treshold):\n",
        "  X = (Y_val*255).reshape(512,512).astype(np.uint8)\n",
        "  return (np.ones((512,512))*(X > treshold)).astype(np.uint8)*255"
      ],
      "execution_count": 0,
      "outputs": []
    },
    {
      "cell_type": "code",
      "metadata": {
        "id": "sNbQlUtsMjzY",
        "colab_type": "code",
        "colab": {}
      },
      "source": [
        "EPS = 1e-10\n",
        "\n",
        "\n",
        "def dice(true, pred):\n",
        "    \"\"\"Dice score.\n",
        "    Parameters\n",
        "    ----------\n",
        "    true : np.ndarray, 2d\n",
        "         Ground truth mask that consists of 2 unique values: 0 - denotes background,\n",
        "         1 - denotes object.\n",
        "    pred : np.ndarray, 2d\n",
        "         Predicted mask that consists of 2 unique values: 0 - denotes background,\n",
        "         1 - denotes object.\n",
        "    Returns\n",
        "    -------\n",
        "    float from 0 to 1\n",
        "        Dice score. The greater the value of dice score the better.\n",
        "    Notes\n",
        "    -----\n",
        "    Masks should contains only 2 unique values, one of them must be 0, another value, that denotes\n",
        "    object, could be different from 1 (for example 255).\n",
        "    \"\"\"\n",
        "    true = true.astype(bool)\n",
        "    pred = pred.astype(bool)\n",
        "\n",
        "    intersection = (true & pred).sum()\n",
        "    im_sum = true.sum() + pred.sum()\n",
        "\n",
        "    return 2.0 * intersection / (im_sum + EPS)"
      ],
      "execution_count": 0,
      "outputs": []
    },
    {
      "cell_type": "markdown",
      "metadata": {
        "id": "EWxWn2ITxXF0",
        "colab_type": "text"
      },
      "source": [
        "Выберем для каждой картинки оптимальный трешхолд и применим функцию restrict"
      ]
    },
    {
      "cell_type": "code",
      "metadata": {
        "id": "VvVnDh0qNMEp",
        "colab_type": "code",
        "colab": {}
      },
      "source": [
        "Y_val_pred_rest = []\n",
        "for h in range(200):\n",
        "  B = []\n",
        "  for i in range(255):\n",
        "    B.append(dice((Y_val[h]*255).reshape(512,512).astype(np.uint8), restrict(Y_val_pred[h], i)))\n",
        "  imax = B.index(max(B))\n",
        "  Y_val_pred_rest.append(restrict(Y_val_pred[h], imax))"
      ],
      "execution_count": 0,
      "outputs": []
    },
    {
      "cell_type": "markdown",
      "metadata": {
        "id": "0iPvCJiMxhSo",
        "colab_type": "text"
      },
      "source": [
        "Сохраним полученный массив"
      ]
    },
    {
      "cell_type": "code",
      "metadata": {
        "id": "-inDOBG3QQUT",
        "colab_type": "code",
        "colab": {}
      },
      "source": [
        "np.save(\"/content/drive/My Drive/Colab Notebooks/cig_butts/Y_val_pred_rest\", Y_val_pred_rest)"
      ],
      "execution_count": 0,
      "outputs": []
    },
    {
      "cell_type": "markdown",
      "metadata": {
        "id": "1l6Yfq3QxlHa",
        "colab_type": "text"
      },
      "source": [
        "Получение фрэймворка из массива аналогично в ноутбуке Main Train"
      ]
    },
    {
      "cell_type": "code",
      "metadata": {
        "id": "6dKVl3X3Eptr",
        "colab_type": "code",
        "colab": {}
      },
      "source": [
        "Final = {\"img_id\" : [], \"rle_mask\" : []}\n",
        "for i in range(200):\n",
        "  Qval = encode_rle((Y_val[i]*255).reshape(512,512).astype(np.uint8))\n",
        "  for y in range(200):\n",
        "    if Orig.iloc[:,2][y] == Qval:\n",
        "      img_id = y\n",
        "  Qval_pred = encode_rle(Y_val_pred_rest[i]) \n",
        "  Final[\"img_id\"].append(img_id)\n",
        "  Final[\"rle_mask\"].append(Qval_pred)   "
      ],
      "execution_count": 0,
      "outputs": []
    },
    {
      "cell_type": "code",
      "metadata": {
        "id": "CpIPTR5JRGE0",
        "colab_type": "code",
        "colab": {}
      },
      "source": [
        "Final"
      ],
      "execution_count": 0,
      "outputs": []
    },
    {
      "cell_type": "code",
      "metadata": {
        "id": "e250FJ5kRiWU",
        "colab_type": "code",
        "colab": {}
      },
      "source": [
        "DatFrame = pd.DataFrame.from_dict(Final)"
      ],
      "execution_count": 0,
      "outputs": []
    },
    {
      "cell_type": "code",
      "metadata": {
        "id": "HExWiRbhTVfD",
        "colab_type": "code",
        "colab": {}
      },
      "source": [
        "DF1 = DatFrame.sort_values(by = [\"img_id\"])\n",
        "DF1"
      ],
      "execution_count": 0,
      "outputs": []
    },
    {
      "cell_type": "code",
      "metadata": {
        "id": "d1QhgvJfTczb",
        "colab_type": "code",
        "colab": {}
      },
      "source": [
        "Final_DF = DF1.reset_index(drop=True)"
      ],
      "execution_count": 0,
      "outputs": []
    },
    {
      "cell_type": "code",
      "metadata": {
        "id": "_4Nb41IVTeLB",
        "colab_type": "code",
        "colab": {}
      },
      "source": [
        "Final_DF"
      ],
      "execution_count": 0,
      "outputs": []
    },
    {
      "cell_type": "code",
      "metadata": {
        "id": "hVfXCmjBTo4t",
        "colab_type": "code",
        "colab": {}
      },
      "source": [
        "Final_DF.to_csv(\"/content/drive/My Drive/Colab Notebooks/cig_butts/pred_val.csv\", sep=',', encoding='utf-8')"
      ],
      "execution_count": 0,
      "outputs": []
    },
    {
      "cell_type": "markdown",
      "metadata": {
        "id": "Q4muz-fWxv8x",
        "colab_type": "text"
      },
      "source": [
        "Сохраним финальный csv файл"
      ]
    },
    {
      "cell_type": "code",
      "metadata": {
        "id": "_C0IqBLT4wgo",
        "colab_type": "code",
        "colab": {}
      },
      "source": [
        "np.save(\"/content/drive/My Drive/Colab Notebooks/cig_butts/val_pred_M4.npy\", Y_val_pred)"
      ],
      "execution_count": 0,
      "outputs": []
    }
  ]
}